{
 "cells": [
  {
   "cell_type": "code",
   "execution_count": null,
   "metadata": {},
   "outputs": [],
   "source": [
    "import os\n",
    "import cv2\n",
    "import matplotlib.pyplot as plt\n",
    "import tensorflow as tf"
   ]
  },
  {
   "cell_type": "code",
   "execution_count": null,
   "metadata": {},
   "outputs": [],
   "source": [
    "# video folders structure\n",
    "\n",
    "# data/video/yyyy_mm_dd/yyyy_mm_dd_hh_mm_ss_A.mp4\n",
    "# for example data/video/2019_05_13/2019_05_13_11_19_31_B.mp4"
   ]
  },
  {
   "cell_type": "code",
   "execution_count": null,
   "metadata": {},
   "outputs": [],
   "source": [
    "from pathlib import Path\n",
    "import os\n",
    "\n",
    "import cv2\n",
    "from IPython.display import clear_output, display\n",
    "\n",
    "class video_metadata:\n",
    "    def __init__(self, year, month, day, hour, minute, second, camera, file_extension):\n",
    "        self.year = year\n",
    "        self.month = month\n",
    "        self.day = day\n",
    "        self.hour = hour\n",
    "        self.minute = minute\n",
    "        self.second = second\n",
    "        self.camera = camera\n",
    "        self.file_extension = file_extension\n",
    "    \n",
    "    def __str__(self):\n",
    "        return (f\"{self.year}_{self.month}_{self.day}_{self.hour}_{self.minute}_{self.second}_{self.camera}.{self.file_extension}\")\n",
    "\n",
    "    def day_string(self):\n",
    "        return (f\"{self.year}_{self.month}_{self.day}\")\n",
    "\n",
    "    def time_string(self):\n",
    "        return (f\"{self.hour}_{self.minute}_{self.second}\")\n",
    "\n",
    "    def day_time_string(self):\n",
    "        return (f\"{self.year}_{self.month}_{self.day}_{self.hour}_{self.minute}_{self.second}\")\n",
    "\n",
    "class video_dataset:\n",
    "    def __init__(self):\n",
    "        self.dataset_folder_path = \"./data/video/\"\n",
    "        self.video_frames_path = \"./data/frames/\"\n",
    "\n",
    "    def get_all_videos_metadata(self):\n",
    "        all_videos = []\n",
    "        for day_folder in os.listdir(self.dataset_folder_path): # in day_folders\n",
    "            for video in os.listdir(os.path.join(dataset_folder_path, day_folder)): # in videos\n",
    "                video_name_split_period = video.split('.')\n",
    "                video_name_split_underscore = video_name_split_period[0].split('_')\n",
    "\n",
    "                year   = video_name_split_underscore[0]\n",
    "                month  = video_name_split_underscore[1]\n",
    "                day    = video_name_split_underscore[2]\n",
    "                hour   = video_name_split_underscore[3]\n",
    "                minute = video_name_split_underscore[4]\n",
    "                second = video_name_split_underscore[5]\n",
    "                camera = video_name_split_underscore[6]\n",
    "                file_extension = video_name_split_period[1]\n",
    "\n",
    "                single_video = video_metadata(year, month, day, hour, minute, second, camera, file_extension)\n",
    "                all_videos.append(single_video)\n",
    "                # print(f\"Found video {year}-{month}-{day}-{hour}-{minute}-{second}-{camera}.{file_extension}\")\n",
    "        return all_videos\n",
    "\n",
    "    def parse_all_videos_into_frames(self):\n",
    "        all_videos_metadata = self.get_all_videos_metadata()\n",
    "        # ensure video_frames folder exists\n",
    "        Path(self.video_frames_path).mkdir(parents=True, exist_ok=True) # safe mkdir\n",
    "        video_counter = 0\n",
    "        for single_video_metadata in all_videos_metadata:\n",
    "            video_counter = video_counter + 1\n",
    "            print(f\"Progress: {video_counter}/{len(all_videos_metadata)}\")\n",
    "            # check day folder exists\n",
    "            # print(self.video_frames_path)\n",
    "            video_day_path = os.path.join(self.video_frames_path, f\"{single_video_metadata.day_string()}/\")\n",
    "            # print(video_day_path)\n",
    "            Path(video_day_path).mkdir(parents=True, exist_ok=True) # safe mkdir\n",
    "            # check time folder exists\n",
    "            video_time_path = os.path.join(video_day_path, f\"{single_video_metadata.time_string()}/\")\n",
    "            # print(video_time_path)\n",
    "            Path(video_time_path).mkdir(parents=True, exist_ok=True) # safe mkdir\n",
    "            # check camera folder exists\n",
    "            video_camera_path = os.path.join(video_time_path, f\"{single_video_metadata.camera}/\")\n",
    "            # print(video_camera_path)\n",
    "            Path(video_camera_path).mkdir(parents=True, exist_ok=True) # safe mkdir\n",
    "\n",
    "            frames_path = video_camera_path\n",
    "            print(frames_path)\n",
    "\n",
    "            files_in_frame_path = [f for f in os.listdir(frames_path) if os.path.isfile(os.path.join(frames_path, f))]\n",
    "            if files_in_frame_path == []:\n",
    "                print(f\"Converting {single_video_metadata} to frames\")\n",
    "                cap_path = os.path.join(self.dataset_folder_path, f\"{single_video_metadata.day_string()}/\", f\"{single_video_metadata}\" )\n",
    "                cap = cv2.VideoCapture(cap_path)\n",
    "                print(f\"Cappath is {cap_path}\")\n",
    "                count = 0\n",
    "                frame_string = f\"frame{count}.jpg\"\n",
    "                print(f\"Writing to {os.path.join(frames_path, frame_string)}\")\n",
    "                while cap.isOpened():\n",
    "                    #clear_output(wait=True)\n",
    "                    # print(f\"Frame {count}\")\n",
    "                    ret,frame = cap.read()\n",
    "                    # cv2.imshow('window-name', frame)\n",
    "                    cv2.imwrite(os.path.join(frames_path, f\"frame{count}.jpg\"), frame)\n",
    "                    count = count + 1\n",
    "                    if count > 599:\n",
    "                        break\n",
    "                cap.release()\n",
    "                cv2.destroyAllWindows() # destroy all opened windows\n",
    "            else:\n",
    "                print(f\"Video {single_video_metadata} was already converted\")\n",
    "\n",
    "\n",
    "\n",
    "\n",
    "# for md in ds.get_all_videos_metadata():\n",
    "#     print(md)\n",
    "# ds = video_dataset()\n",
    "# ds.parse_all_videos_into_frames()"
   ]
  },
  {
   "cell_type": "code",
   "execution_count": null,
   "metadata": {},
   "outputs": [],
   "source": []
  },
  {
   "cell_type": "code",
   "execution_count": null,
   "metadata": {},
   "outputs": [],
   "source": []
  },
  {
   "cell_type": "code",
   "execution_count": null,
   "metadata": {},
   "outputs": [],
   "source": []
  },
  {
   "cell_type": "code",
   "execution_count": null,
   "metadata": {},
   "outputs": [],
   "source": []
  },
  {
   "cell_type": "code",
   "execution_count": null,
   "metadata": {},
   "outputs": [],
   "source": []
  },
  {
   "cell_type": "code",
   "execution_count": null,
   "metadata": {},
   "outputs": [],
   "source": []
  },
  {
   "cell_type": "code",
   "execution_count": null,
   "metadata": {},
   "outputs": [],
   "source": []
  },
  {
   "cell_type": "code",
   "execution_count": null,
   "metadata": {},
   "outputs": [],
   "source": []
  },
  {
   "cell_type": "code",
   "execution_count": null,
   "metadata": {},
   "outputs": [],
   "source": []
  },
  {
   "cell_type": "code",
   "execution_count": null,
   "metadata": {},
   "outputs": [],
   "source": []
  },
  {
   "cell_type": "code",
   "execution_count": null,
   "metadata": {},
   "outputs": [],
   "source": []
  },
  {
   "cell_type": "code",
   "execution_count": null,
   "metadata": {},
   "outputs": [],
   "source": []
  },
  {
   "cell_type": "code",
   "execution_count": null,
   "metadata": {},
   "outputs": [],
   "source": []
  },
  {
   "cell_type": "code",
   "execution_count": null,
   "metadata": {},
   "outputs": [],
   "source": []
  }
 ],
 "metadata": {
  "kernelspec": {
   "display_name": "Python 3",
   "language": "python",
   "name": "python3"
  },
  "language_info": {
   "codemirror_mode": {
    "name": "ipython",
    "version": 3
   },
   "file_extension": ".py",
   "mimetype": "text/x-python",
   "name": "python",
   "nbconvert_exporter": "python",
   "pygments_lexer": "ipython3",
   "version": "3.7.10"
  }
 },
 "nbformat": 4,
 "nbformat_minor": 2
}
